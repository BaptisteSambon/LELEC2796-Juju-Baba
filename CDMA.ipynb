{
 "cells": [
  {
   "cell_type": "markdown",
   "metadata": {},
   "source": [
    "Some useful imports."
   ]
  },
  {
   "cell_type": "code",
   "execution_count": 108,
   "metadata": {},
   "outputs": [],
   "source": [
    "import numpy as np\n",
    "try:\n",
    "    import sionna\n",
    "except ImportError as e:\n",
    "    import os\n",
    "    os.system(\"py -m pip install sionna\")\n",
    "    import sionna\n",
    "import tensorflow as tf\n",
    "import utils\n",
    "import matplotlib.pyplot as plt\n",
    "from scipy.special import erfc\n",
    "import random\n",
    "\n",
    "class bcolors:\n",
    "    OK = \"\\033[92m\"  # GREEN\n",
    "    WARNING = \"\\033[93m\"  # YELLOW\n",
    "    FAIL = \"\\033[91m\"  # RED\n",
    "    RESET = \"\\033[0m\"  # RESET COLOR"
   ]
  },
  {
   "cell_type": "markdown",
   "metadata": {},
   "source": [
    "Input data and used parameters."
   ]
  },
  {
   "cell_type": "code",
   "execution_count": 109,
   "metadata": {},
   "outputs": [],
   "source": [
    "tx_params = {\n",
    "    \"nUsers\" : 3,\n",
    "    \"powerAllocation_dB\" : 0,\n",
    "    \"nMessage\" : 6,\n",
    "    \"cCode\" : 3,\n",
    "    \"correctorRate\" : 1/2,\n",
    "    \"nCodeCDMA\" : 8,\n",
    "    \"symb_freq\" : 25e3,\n",
    "    \"codes\" : [],\n",
    "    \"nGold\" : 1024\n",
    "}\n",
    "\n",
    "data_preview = utils.random_data(tx_params)\n",
    "data_out_preview = utils.CDMA_encode(data_preview, tx_params)\n",
    "data_estimated_preview = utils.CDMA_decode(data_out_preview, tx_params)\n",
    "for i in range(tx_params[\"nUsers\"]):\n",
    "    data_preview[i] = utils.PlusMinusOne2Binary(data_preview[i], int)\n",
    "\n",
    "print_preview = False\n",
    "if print_preview:\n",
    "    print(\"We want to transmit the following data to \"+str(tx_params[\"nUsers\"])+\" users.\")\n",
    "    print(data_preview)\n",
    "    print(\"Therefore we encode via CDMA and we get the following no-noise channel.\")\n",
    "    print(data_out_preview)\n",
    "    print(\"Finally this is the estimated transmitted data from the CDMA decoder.\")\n",
    "    print(data_estimated_preview)\n",
    "\n",
    "    if((data_estimated_preview == data_preview ).all()) : \n",
    "        print(bcolors.OK + \"Well Done !\" + bcolors.RESET)\n",
    "    else : \n",
    "        print(bcolors.WARNING + \"Try Again...\" + bcolors.RESET)"
   ]
  },
  {
   "cell_type": "markdown",
   "metadata": {},
   "source": [
    "Use sionna to create a scenario and a channel expression. "
   ]
  },
  {
   "cell_type": "code",
   "execution_count": 110,
   "metadata": {},
   "outputs": [],
   "source": [
    "nmodbits = 2\n",
    "binary_source = sionna.utils.BinarySource()\n",
    "channel = sionna.channel.AWGN()\n",
    "\n",
    "# constellation = sionna.mapping.Constellation(\"qam\", nmodbits)\n",
    "# mapper = sionna.mapping.Mapper(constellation=constellation)\n",
    "# demapper = sionna.mapping.Demapper(\"app\", \"qam\", nmodbits, hard_out=True, dtype=tf.complex128)"
   ]
  },
  {
   "cell_type": "markdown",
   "metadata": {},
   "source": [
    "Compute nice metrics in the cell below."
   ]
  },
  {
   "cell_type": "code",
   "execution_count": 111,
   "metadata": {},
   "outputs": [],
   "source": [
    "ebn0 = np.arange(0, 21, 1)\n",
    "snr_db = ebn0 + 10*np.log10(tx_params[\"correctorRate\"]) + 10*np.log10(nmodbits)\n",
    "nb_seq = 800\n",
    "alpha = 0\n",
    "ber_OnlyCode = np.zeros(len(ebn0))\n",
    "ber_ChannelNoise = np.zeros(len(ebn0))\n",
    "ber_ZeroForcing = np.zeros(len(ebn0))\n",
    "\n",
    "long_computation = False\n",
    "\n",
    "if long_computation:\n",
    "  for i in range(len(snr_db)) :\n",
    "\n",
    "    ber_OnlyCode_i = np.zeros(nb_seq)\n",
    "    ber_ChannelNoise_i = np.zeros(nb_seq)\n",
    "    ber_ZeroForcing_i = np.zeros(nb_seq)\n",
    "    var_noise = 1/(10**(0.1*snr_db[i]))\n",
    "\n",
    "    for j in range(nb_seq) :\n",
    "\n",
    "      BinarySource = binary_source([tx_params[\"nUsers\"], tx_params[\"nMessage\"]])\n",
    "      BinarySource = BinarySource.numpy()\n",
    "\n",
    "      # Il manquerait pas un truc qui prendrait en compte le codingRate, le mapping et le power?\n",
    "      # Map = mapper(Coding)\n",
    "      # data = Map.numpy()\n",
    "\n",
    "      data = BinarySource\n",
    "      data_channel = utils.CDMA_encode(data, tx_params)\n",
    "      \n",
    "      h = utils.Rayleigh_canal(alpha, len(data_channel))\n",
    "      n = (1j*np.random.normal(scale=np.sqrt(var_noise/2),size=data_channel.shape) \n",
    "          + np.random.normal(scale=np.sqrt(var_noise/2),size=data_channel.shape))\n",
    "      channel = data_channel*h + n\n",
    "      zero_forcing = channel/h\n",
    "\n",
    "      decoded_OnlyCode = utils.CDMA_decode(data_channel, tx_params)\n",
    "      decoded_ChannelNoise = utils.CDMA_decode(channel, tx_params)\n",
    "      decoded_ZeroForcing = utils.CDMA_decode(zero_forcing, tx_params)\n",
    "      \n",
    "      decoded_tf_OnlyCode = tf.convert_to_tensor(decoded_OnlyCode)\n",
    "      decoded_tf_ChannelNoise = tf.convert_to_tensor(decoded_ChannelNoise)\n",
    "      decoded_tf_ZeroForcing = tf.convert_to_tensor(decoded_ZeroForcing)\n",
    "      \n",
    "      BinarySource = tf.cast(tf.less(0.0, BinarySource), tf.float32)\n",
    "      decoded_tf_OnlyCode = tf.cast(tf.less(0.0, decoded_tf_OnlyCode), tf.float32)\n",
    "      decoded_tf_ChannelNoise = tf.cast(tf.less(0.0, decoded_tf_ChannelNoise), tf.float32)\n",
    "      decoded_tf_ZeroForcing = tf.cast(tf.less(0.0, decoded_tf_ZeroForcing), tf.float32)\n",
    "      \n",
    "      ber_OnlyCode_j = sionna.utils.metrics.compute_ber(BinarySource, decoded_tf_OnlyCode)\n",
    "      ber_ChannelNoise_j = sionna.utils.metrics.compute_ber(BinarySource, decoded_tf_ChannelNoise)\n",
    "      ber_ZeroForcing_j = sionna.utils.metrics.compute_ber(BinarySource, decoded_tf_ZeroForcing)\n",
    "\n",
    "      ber_OnlyCode_i[j] = ber_OnlyCode_j.numpy()\n",
    "      ber_ChannelNoise_i[j] = ber_ChannelNoise_j.numpy()\n",
    "      ber_ZeroForcing_i[j] = ber_ZeroForcing_j.numpy()\n",
    "\n",
    "    ber_OnlyCode[i] = np.mean(ber_OnlyCode_i)\n",
    "    ber_ChannelNoise[i] = np.mean(ber_ChannelNoise_i)\n",
    "    ber_ZeroForcing[i] = np.mean(ber_ZeroForcing_i)\n",
    "\n",
    "    print_plots = False\n",
    "    if print_plots:\n",
    "        if (i==3)or(i==10)or(i==14)or(i==19):\n",
    "          plt.figure()\n",
    "          plt.scatter(np.real(channel), np.imag(channel))\n",
    "          plt.axline((0,0),(0,1))\n",
    "          plt.axline((0,0),(1,0))\n",
    "          plt.show()\n",
    "\n",
    "    print(\"Eb/N0 = \" + str(ebn0[i]) + \", \" + \" \"*(i<10) + bcolors.OK + \"BER_OnlyCode = \" + str(ber_OnlyCode[i]) + bcolors.RESET + \", \" \n",
    "          + bcolors.FAIL + \"BER_ChannelNoise = \" + f\"{ber_ChannelNoise[i]:.9f}\" + bcolors.RESET + \", \" # str(ber_ChannelNoise[i]) \n",
    "          + bcolors.WARNING + \"BER_ZeroForcing = \" + f\"{ber_ZeroForcing[i]:.9f}\" + bcolors.RESET) # str(ber_ZeroForcing[i])"
   ]
  },
  {
   "cell_type": "markdown",
   "metadata": {},
   "source": [
    "Let's plot some cool stuff. Beginning with the BER(SNR) curve."
   ]
  },
  {
   "cell_type": "code",
   "execution_count": 112,
   "metadata": {},
   "outputs": [],
   "source": [
    "if long_computation:\n",
    "    plt.figure()\n",
    "    # plt.semilogy(snr_db, ber_OnlyCode, \"V-\", label=\"CDMA_OnlyCode\", color=\"black\")\n",
    "    plt.semilogy(snr_db, ber_ChannelNoise, \"o-\", label=\"CDMA_ChannelNoise\", color=\"black\")\n",
    "    plt.semilogy(snr_db, ber_ZeroForcing, \"D-\", label=\"CDMA_ZeroForcing\", color=\"black\")\n",
    "    ber_awgn = (1/2)*erfc(np.sqrt(10**(0.1*snr_db)/2))\n",
    "    plt.plot(snr_db, ber_awgn, label=\"AWGN\", color=\"black\")\n",
    "    plt.xlabel(\"SNR [dB]\")\n",
    "    plt.ylabel(\"BER\")\n",
    "    plt.xscale(\"linear\")\n",
    "    plt.yscale(\"log\")\n",
    "    plt.grid(which=\"both\")\n",
    "    plt.legend()\n",
    "    plt.ylim([10**(-12), 0.8])\n",
    "    plt.show()"
   ]
  },
  {
   "cell_type": "markdown",
   "metadata": {},
   "source": [
    "Let's also try something crazy. Try the system with real string words."
   ]
  },
  {
   "cell_type": "code",
   "execution_count": 113,
   "metadata": {},
   "outputs": [
    {
     "name": "stderr",
     "output_type": "stream",
     "text": [
      "c:\\Users\\Dell\\moi\\Documents\\_Q9\\lelec2796\\Project_noma-xdma\\LELEC2796-Juju-Baba\\utils.py:424: ComplexWarning: Casting complex values to real discards the imaginary part\n",
      "  predata_estimated[i][j] = np.dot(channel[j*nCodeCDMA:(j+1)*nCodeCDMA], codes[i])/nCodeCDMA\n"
     ]
    }
   ],
   "source": [
    "nmodbits = 2\n",
    "channel = sionna.channel.AWGN()\n",
    "message = \"Hello World!\"\n",
    "data_message = utils.String2Binary(message, tx_params)\n",
    "\n",
    "ebn0 = np.arange(0, 21, 1)\n",
    "snr_db = ebn0 + 10*np.log10(tx_params[\"correctorRate\"]) + 10*np.log10(nmodbits)\n",
    "\n",
    "message_OnlyCode = ['']*tx_params[\"nUsers\"]\n",
    "message_ChannelNoise = ['']*tx_params[\"nUsers\"]\n",
    "message_ZeroForcing = ['']*tx_params[\"nUsers\"]\n",
    "\n",
    "for i in range(len(ebn0)) :\n",
    "  data_channel = utils.CDMA_encode(data_message, tx_params)\n",
    "    \n",
    "  h = utils.Rayleigh_canal(0, len(data_channel))\n",
    "  var_noise = 1/(10**(0.1*snr_db[i]))\n",
    "  n = (1j*np.random.normal(scale=np.sqrt(var_noise/2),size=data_channel.shape) \n",
    "       + np.random.normal(scale=np.sqrt(var_noise/2),size=data_channel.shape))\n",
    "  channel = data_channel*h + n\n",
    "  zero_forcing = channel/h\n",
    "    \n",
    "  decoded_OnlyCode = utils.CDMA_decode(data_channel, tx_params)\n",
    "  decoded_ChannelNoise = utils.CDMA_decode(channel, tx_params)\n",
    "  decoded_ZeroForcing = utils.CDMA_decode(zero_forcing, tx_params)\n",
    "\n",
    "  for j in range(tx_params[\"nUsers\"]):\n",
    "    message_OnlyCode[j] = utils.Binary2String(decoded_OnlyCode[j])\n",
    "    message_ChannelNoise[j] = utils.Binary2String(decoded_ChannelNoise[j])\n",
    "    message_ZeroForcing[j] = utils.Binary2String(decoded_ZeroForcing[j])\n",
    "\n",
    "  ifPrintAllMessages = False\n",
    "  if ifPrintAllMessages:\n",
    "    print(\"SNR [dB] = \" + str(i))\n",
    "    print('')\n",
    "    print(\"OnlyCode\" + \"     : \" + str(message_OnlyCode))\n",
    "    print(\"ChannelNoise : \" + str(message_ChannelNoise))\n",
    "    print(\"ZeroForcing\" + \"  : \" + str(message_ZeroForcing))\n",
    "    print('----------------------------------------------')\n",
    "    print('')"
   ]
  },
  {
   "cell_type": "markdown",
   "metadata": {},
   "source": [
    "Now that we have done something fun, it's time to compute a bit of outage probability."
   ]
  },
  {
   "cell_type": "code",
   "execution_count": 114,
   "metadata": {},
   "outputs": [],
   "source": [
    "# HERE OUTAGE PROBABILITY. It's the probability that the channel capacity is smaller than a targetted rate R.\n",
    "\n"
   ]
  },
  {
   "cell_type": "markdown",
   "metadata": {},
   "source": [
    "Oh no I actually forgot gold codes! This will simulate the inter-cell interferences."
   ]
  },
  {
   "cell_type": "code",
   "execution_count": 115,
   "metadata": {},
   "outputs": [],
   "source": [
    "def goldcode(n):\n",
    "    \"\"\"\n",
    "    Returns the three-valued cross correlation for a n-length Gold code\n",
    "\n",
    "    Parameters\n",
    "    ----------\n",
    "    \n",
    "    n : int\n",
    "        Length of desired Gold code\n",
    "        n must be one of these values [32, 64, 128, 512, 1024, 2048]\n",
    "    \n",
    "    Returns\n",
    "    -------\n",
    "    \n",
    "    result : int, int, int\n",
    "        Three-valued cross-correlation which is not normalized\n",
    "    \"\"\"\n",
    "\n",
    "    if n == 32:\n",
    "        xcorr = [-9, 7]\n",
    "    elif n == 64:\n",
    "        xcorr = [-17, 15]\n",
    "    elif n == 128:\n",
    "        xcorr = [-17, 15]\n",
    "    elif n == 512:\n",
    "        xcorr = [-33, 31]\n",
    "    elif n == 1024:\n",
    "        xcorr = [-65, 63]\n",
    "    elif n == 2048:\n",
    "        xcorr = [-65, 63]\n",
    "    else:\n",
    "        raise ValueError(\"n must be one of 32, 64, 128, 512, 1024, 2048\")\n",
    "\n",
    "\n",
    "    return xcorr[0], -1, xcorr[1]\n",
    "\n",
    "data_Gold = utils.random_data(tx_params)\n",
    "data_out_Gold = utils.CDMA_encode(data_Gold, tx_params)\n",
    "signalOtherCells = np.zeros(data_out_Gold.shape[0])\n",
    "for i in range(data_out_Gold.shape[0]):\n",
    "    signalOtherCells[i] = random.randint(0, 1)\n",
    "signalOtherCells = utils.Binary2PlusMinusOne(signalOtherCells, int)\n",
    "xCorrNegative, xCorrOsef, xCorrPositive = goldcode(tx_params[\"nGold\"])\n",
    "data_out_Gold += signalOtherCells*(xCorrPositive-xCorrNegative)/tx_params[\"nGold\"]\n",
    "\n",
    "data_estimated_Gold = utils.CDMA_decode(data_out_Gold, tx_params)\n",
    "for i in range(tx_params[\"nUsers\"]):\n",
    "    data_Gold[i] = utils.PlusMinusOne2Binary(data_Gold[i], int)"
   ]
  }
 ],
 "metadata": {
  "kernelspec": {
   "display_name": "Python 3",
   "language": "python",
   "name": "python3"
  },
  "language_info": {
   "codemirror_mode": {
    "name": "ipython",
    "version": 3
   },
   "file_extension": ".py",
   "mimetype": "text/x-python",
   "name": "python",
   "nbconvert_exporter": "python",
   "pygments_lexer": "ipython3",
   "version": "3.11.0"
  }
 },
 "nbformat": 4,
 "nbformat_minor": 2
}
