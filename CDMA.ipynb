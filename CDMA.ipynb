{
 "cells": [
  {
   "cell_type": "markdown",
   "metadata": {},
   "source": [
    "Some useful imports."
   ]
  },
  {
   "cell_type": "code",
   "execution_count": 17,
   "metadata": {},
   "outputs": [],
   "source": [
    "import numpy as np\n",
    "try:\n",
    "    import sionna\n",
    "except ImportError as e:\n",
    "    import os\n",
    "    os.system(\"pip install sionna\")\n",
    "    import sionna\n",
    "import tensorflow as tf\n",
    "from utils import CDMA_encode, CDMA_decode, random_data, PlusMinusOne2Binary, Rayleigh_canal, Binary2String, String2Binary\n",
    "import matplotlib.pyplot as plt\n",
    "from scipy.special import erfc\n",
    "\n",
    "class bcolors:\n",
    "    OK = \"\\033[92m\"  # GREEN\n",
    "    WARNING = \"\\033[93m\"  # YELLOW\n",
    "    FAIL = \"\\033[91m\"  # RED\n",
    "    RESET = \"\\033[0m\"  # RESET COLOR"
   ]
  },
  {
   "cell_type": "markdown",
   "metadata": {},
   "source": [
    "Input data and used parameters."
   ]
  },
  {
   "cell_type": "code",
   "execution_count": 18,
   "metadata": {},
   "outputs": [],
   "source": [
    "tx_params = {\n",
    "    \"nUsers\" : 4,\n",
    "    \"powerAllocation_dB\" : 0,\n",
    "    \"nMessage\" : 6,\n",
    "    \"cCode\" : 3,\n",
    "    \"correctorRate\" : 1/2,\n",
    "    \"nCodeCDMA\" : 8,\n",
    "    \"symb_freq\" : 25e3,\n",
    "    \"codes\" : []\n",
    "}\n",
    "\n",
    "data_preview = random_data(tx_params)\n",
    "data_out_preview = CDMA_encode(data_preview, tx_params)\n",
    "data_estimated_preview = CDMA_decode(data_out_preview , tx_params)\n",
    "for i in range(tx_params[\"nUsers\"]):\n",
    "    data_preview [i] = PlusMinusOne2Binary(data_preview [i], int)\n",
    "\n",
    "print_preview = False\n",
    "if print_preview:\n",
    "    print(\"We want to transmit the following data to \"+str(tx_params[\"nUsers\"])+\" users.\")\n",
    "    print(data_preview)\n",
    "    print(\"Therefore we encode via CDMA and we get the following no-noise channel.\")\n",
    "    print(data_out_preview)\n",
    "    print(\"Finally this is the estimated transmitted data from the CDMA decoder.\")\n",
    "    print(data_estimated_preview)\n",
    "\n",
    "    if((data_estimated_preview ==data_preview ).all()) : \n",
    "        print(bcolors.OK + \"Well Done !\" + bcolors.RESET)\n",
    "    else : \n",
    "        print(bcolors.WARNING + \"Try Again...\" + bcolors.RESET)"
   ]
  },
  {
   "cell_type": "markdown",
   "metadata": {},
   "source": [
    "Use sionna to create a scenario and a channel expression. "
   ]
  },
  {
   "cell_type": "code",
   "execution_count": 19,
   "metadata": {},
   "outputs": [],
   "source": [
    "nmodbits = 2\n",
    "binary_source = sionna.utils.BinarySource()\n",
    "channel = sionna.channel.AWGN()\n",
    "\n",
    "# constellation = sionna.mapping.Constellation(\"qam\", nmodbits)\n",
    "# mapper = sionna.mapping.Mapper(constellation=constellation)\n",
    "# demapper = sionna.mapping.Demapper(\"app\", \"qam\", nmodbits, hard_out=True, dtype=tf.complex128)"
   ]
  },
  {
   "cell_type": "markdown",
   "metadata": {},
   "source": [
    "Compute nice metrics in the cell below."
   ]
  },
  {
   "cell_type": "code",
   "execution_count": 20,
   "metadata": {},
   "outputs": [
    {
     "name": "stdout",
     "output_type": "stream",
     "text": [
      "Eb/N0 = 0,  \u001b[92mBER_OnlyCode = 0.0\u001b[0m, \u001b[93mBER_ChannelNoise = 0.499208333\u001b[0m, \u001b[91mBER_ZeroForcing = 0.020250000\u001b[0m\n",
      "Eb/N0 = 1,  \u001b[92mBER_OnlyCode = 0.0\u001b[0m, \u001b[93mBER_ChannelNoise = 0.490291667\u001b[0m, \u001b[91mBER_ZeroForcing = 0.016583333\u001b[0m\n",
      "Eb/N0 = 2,  \u001b[92mBER_OnlyCode = 0.0\u001b[0m, \u001b[93mBER_ChannelNoise = 0.502708333\u001b[0m, \u001b[91mBER_ZeroForcing = 0.010041667\u001b[0m\n",
      "Eb/N0 = 3,  \u001b[92mBER_OnlyCode = 0.0\u001b[0m, \u001b[93mBER_ChannelNoise = 0.499541667\u001b[0m, \u001b[91mBER_ZeroForcing = 0.009416667\u001b[0m\n",
      "Eb/N0 = 4,  \u001b[92mBER_OnlyCode = 0.0\u001b[0m, \u001b[93mBER_ChannelNoise = 0.500416667\u001b[0m, \u001b[91mBER_ZeroForcing = 0.006166667\u001b[0m\n",
      "Eb/N0 = 5,  \u001b[92mBER_OnlyCode = 0.0\u001b[0m, \u001b[93mBER_ChannelNoise = 0.507125000\u001b[0m, \u001b[91mBER_ZeroForcing = 0.005125000\u001b[0m\n",
      "Eb/N0 = 6,  \u001b[92mBER_OnlyCode = 0.0\u001b[0m, \u001b[93mBER_ChannelNoise = 0.506791667\u001b[0m, \u001b[91mBER_ZeroForcing = 0.004958333\u001b[0m\n",
      "Eb/N0 = 7,  \u001b[92mBER_OnlyCode = 0.0\u001b[0m, \u001b[93mBER_ChannelNoise = 0.494666667\u001b[0m, \u001b[91mBER_ZeroForcing = 0.004000000\u001b[0m\n",
      "Eb/N0 = 8,  \u001b[92mBER_OnlyCode = 0.0\u001b[0m, \u001b[93mBER_ChannelNoise = 0.503500000\u001b[0m, \u001b[91mBER_ZeroForcing = 0.002708333\u001b[0m\n",
      "Eb/N0 = 9,  \u001b[92mBER_OnlyCode = 0.0\u001b[0m, \u001b[93mBER_ChannelNoise = 0.493666667\u001b[0m, \u001b[91mBER_ZeroForcing = 0.002416667\u001b[0m\n",
      "Eb/N0 = 10, \u001b[92mBER_OnlyCode = 0.0\u001b[0m, \u001b[93mBER_ChannelNoise = 0.491250000\u001b[0m, \u001b[91mBER_ZeroForcing = 0.000958333\u001b[0m\n",
      "Eb/N0 = 11, \u001b[92mBER_OnlyCode = 0.0\u001b[0m, \u001b[93mBER_ChannelNoise = 0.503291667\u001b[0m, \u001b[91mBER_ZeroForcing = 0.001250000\u001b[0m\n",
      "Eb/N0 = 12, \u001b[92mBER_OnlyCode = 0.0\u001b[0m, \u001b[93mBER_ChannelNoise = 0.508541667\u001b[0m, \u001b[91mBER_ZeroForcing = 0.000875000\u001b[0m\n",
      "Eb/N0 = 13, \u001b[92mBER_OnlyCode = 0.0\u001b[0m, \u001b[93mBER_ChannelNoise = 0.494083333\u001b[0m, \u001b[91mBER_ZeroForcing = 0.000875000\u001b[0m\n",
      "Eb/N0 = 14, \u001b[92mBER_OnlyCode = 0.0\u001b[0m, \u001b[93mBER_ChannelNoise = 0.500833333\u001b[0m, \u001b[91mBER_ZeroForcing = 0.000333333\u001b[0m\n",
      "Eb/N0 = 15, \u001b[92mBER_OnlyCode = 0.0\u001b[0m, \u001b[93mBER_ChannelNoise = 0.494791667\u001b[0m, \u001b[91mBER_ZeroForcing = 0.000666667\u001b[0m\n",
      "Eb/N0 = 16, \u001b[92mBER_OnlyCode = 0.0\u001b[0m, \u001b[93mBER_ChannelNoise = 0.488666667\u001b[0m, \u001b[91mBER_ZeroForcing = 0.000250000\u001b[0m\n",
      "Eb/N0 = 17, \u001b[92mBER_OnlyCode = 0.0\u001b[0m, \u001b[93mBER_ChannelNoise = 0.496541667\u001b[0m, \u001b[91mBER_ZeroForcing = 0.000083333\u001b[0m\n",
      "Eb/N0 = 18, \u001b[92mBER_OnlyCode = 0.0\u001b[0m, \u001b[93mBER_ChannelNoise = 0.501416667\u001b[0m, \u001b[91mBER_ZeroForcing = 0.000250000\u001b[0m\n",
      "Eb/N0 = 19, \u001b[92mBER_OnlyCode = 0.0\u001b[0m, \u001b[93mBER_ChannelNoise = 0.498916667\u001b[0m, \u001b[91mBER_ZeroForcing = 0.000000000\u001b[0m\n",
      "Eb/N0 = 20, \u001b[92mBER_OnlyCode = 0.0\u001b[0m, \u001b[93mBER_ChannelNoise = 0.500333333\u001b[0m, \u001b[91mBER_ZeroForcing = 0.000000000\u001b[0m\n"
     ]
    }
   ],
   "source": [
    "ebn0 = np.arange(0, 21, 1)\n",
    "snr_db = ebn0 + 10*np.log10(tx_params[\"correctorRate\"]) + 10*np.log10(nmodbits)\n",
    "nb_seq = 1000\n",
    "alpha = 0\n",
    "ber_OnlyCode = np.zeros(len(ebn0))\n",
    "ber_ChannelNoise = np.zeros(len(ebn0))\n",
    "ber_ZeroForcing = np.zeros(len(ebn0))\n",
    "\n",
    "for i in range(len(snr_db)) :\n",
    "\n",
    "  ber_OnlyCode_i = np.zeros(nb_seq)\n",
    "  ber_ChannelNoise_i = np.zeros(nb_seq)\n",
    "  ber_ZeroForcing_i = np.zeros(nb_seq)\n",
    "  var_noise = 1/(10**(0.1*snr_db[i]))\n",
    "\n",
    "  for j in range(nb_seq) :\n",
    "\n",
    "    BinarySource = binary_source([tx_params[\"nUsers\"], tx_params[\"nMessage\"]])\n",
    "    BinarySource = BinarySource.numpy()\n",
    "\n",
    "    # Il manquerait pas un truc qui prendrait en compte le codingRate, le mapping et le power?\n",
    "    # Map = mapper(Coding)\n",
    "    # data = Map.numpy()\n",
    "\n",
    "    data = BinarySource\n",
    "    data_channel = CDMA_encode(data, tx_params)\n",
    "    \n",
    "    h = Rayleigh_canal(alpha, len(data_channel))\n",
    "    n = (1j*np.random.normal(scale=np.sqrt(var_noise/2),size=data_channel.shape) \n",
    "         + np.random.normal(scale=np.sqrt(var_noise/2),size=data_channel.shape))\n",
    "    channel = data_channel*h + n\n",
    "    zero_forcing = channel/h\n",
    "\n",
    "    decoded_OnlyCode = CDMA_decode(data_channel, tx_params)\n",
    "    decoded_ChannelNoise = CDMA_decode(channel, tx_params)\n",
    "    decoded_ZeroForcing = CDMA_decode(zero_forcing, tx_params)\n",
    "    \n",
    "    decoded_tf_OnlyCode = tf.convert_to_tensor(decoded_OnlyCode)\n",
    "    decoded_tf_ChannelNoise = tf.convert_to_tensor(decoded_ChannelNoise)\n",
    "    decoded_tf_ZeroForcing = tf.convert_to_tensor(decoded_ZeroForcing)\n",
    "    \n",
    "    BinarySource = tf.cast(tf.less(0.0, BinarySource), tf.float32)\n",
    "    decoded_tf_OnlyCode = tf.cast(tf.less(0.0, decoded_tf_OnlyCode), tf.float32)\n",
    "    decoded_tf_ChannelNoise = tf.cast(tf.less(0.0, decoded_tf_ChannelNoise), tf.float32)\n",
    "    decoded_tf_ZeroForcing = tf.cast(tf.less(0.0, decoded_tf_ZeroForcing), tf.float32)\n",
    "    \n",
    "    ber_OnlyCode_j = sionna.utils.metrics.compute_ber(BinarySource, decoded_tf_OnlyCode)\n",
    "    ber_ChannelNoise_j = sionna.utils.metrics.compute_ber(BinarySource, decoded_tf_ChannelNoise)\n",
    "    ber_ZeroForcing_j = sionna.utils.metrics.compute_ber(BinarySource, decoded_tf_ZeroForcing)\n",
    "\n",
    "    ber_OnlyCode_i[j] = ber_OnlyCode_j.numpy()\n",
    "    ber_ChannelNoise_i[j] = ber_ChannelNoise_j.numpy()\n",
    "    ber_ZeroForcing_i[j] = ber_ZeroForcing_j.numpy()\n",
    "\n",
    "  ber_OnlyCode[i] = np.mean(ber_OnlyCode_i)\n",
    "  ber_ChannelNoise[i] = np.mean(ber_ChannelNoise_i)\n",
    "  ber_ZeroForcing[i] = np.mean(ber_ZeroForcing_i)\n",
    "\n",
    "  print_plots = False\n",
    "  if print_plots:\n",
    "      if (i==3)or(i==10)or(i==14)or(i==19):\n",
    "        plt.figure()\n",
    "        plt.scatter(np.real(channel), np.imag(channel))\n",
    "        plt.axline((0,0),(0,1))\n",
    "        plt.axline((0,0),(1,0))\n",
    "        plt.show()\n",
    "\n",
    "  print(\"Eb/N0 = \" + str(ebn0[i]) + \", \" + \" \"*(i<10) + bcolors.OK + \"BER_OnlyCode = \" + str(ber_OnlyCode[i]) + bcolors.RESET + \", \" \n",
    "        + bcolors.FAIL + \"BER_ChannelNoise = \" + f\"{ber_ChannelNoise[i]:.9f}\" + bcolors.RESET + \", \" # str(ber_ChannelNoise[i]) \n",
    "        + bcolors.WARNING + \"BER_ZeroForcing = \" + f\"{ber_ZeroForcing[i]:.9f}\" + bcolors.RESET) # str(ber_ZeroForcing[i])"
   ]
  },
  {
   "cell_type": "markdown",
   "metadata": {},
   "source": [
    "Let's plot some cool stuff. Beginning with the BER(SNR) curve."
   ]
  },
  {
   "cell_type": "code",
   "execution_count": 21,
   "metadata": {},
   "outputs": [
    {
     "data": {
      "image/png": "[encoded data removed]",
      "text/plain": [
       "<Figure size 640x480 with 1 Axes>"
      ]
     },
     "metadata": {},
     "output_type": "display_data"
    }
   ],
   "source": [
    "plt.figure()\n",
    "# plt.semilogy(snr_db, ber_OnlyCode, \"V-\", label=\"CDMA_OnlyCode\", color=\"black\")\n",
    "plt.semilogy(snr_db, ber_ChannelNoise, \"o-\", label=\"CDMA_ChannelNoise\", color=\"black\")\n",
    "plt.semilogy(snr_db, ber_ZeroForcing, \"D-\", label=\"CDMA_ZeroForcing\", color=\"black\")\n",
    "ber_awgn = (1/2)*erfc(np.sqrt(10**(0.1*snr_db)/2))\n",
    "plt.plot(snr_db, ber_awgn, label=\"AWGN\", color=\"black\")\n",
    "plt.xlabel(\"SNR [dB]\")\n",
    "plt.ylabel(\"BER\")\n",
    "plt.xscale(\"linear\")\n",
    "plt.yscale(\"log\")\n",
    "plt.grid(which=\"both\")\n",
    "plt.legend()\n",
    "plt.ylim([10**(-12), 0.8])\n",
    "plt.show()"
   ]
  },
  {
   "cell_type": "markdown",
   "metadata": {},
   "source": [
    "Let's also try something crazy. Try the system with real string words."
   ]
  },
  {
   "cell_type": "code",
   "execution_count": 24,
   "metadata": {},
   "outputs": [
    {
     "ename": "TypeError",
     "evalue": "String2Binary() takes 1 positional argument but 2 were given",
     "output_type": "error",
     "traceback": [
      "\u001b[1;31m---------------------------------------------------------------------------\u001b[0m",
      "\u001b[1;31mTypeError\u001b[0m                                 Traceback (most recent call last)",
      "\u001b[1;32mc:\\Users\\Dell\\moi\\Documents\\_Q9\\lelec2796\\Project_noma-xdma\\LELEC2796-Juju-Baba\\CDMA.ipynb Cell 12\u001b[0m line \u001b[0;36m4\n\u001b[0;32m      <a href='vscode-notebook-cell:/c%3A/Users/Dell/moi/Documents/_Q9/lelec2796/Project_noma-xdma/LELEC2796-Juju-Baba/CDMA.ipynb#X10sZmlsZQ%3D%3D?line=1'>2</a>\u001b[0m channel \u001b[39m=\u001b[39m sionna\u001b[39m.\u001b[39mchannel\u001b[39m.\u001b[39mAWGN()\n\u001b[0;32m      <a href='vscode-notebook-cell:/c%3A/Users/Dell/moi/Documents/_Q9/lelec2796/Project_noma-xdma/LELEC2796-Juju-Baba/CDMA.ipynb#X10sZmlsZQ%3D%3D?line=2'>3</a>\u001b[0m message \u001b[39m=\u001b[39m \u001b[39m\"\u001b[39m\u001b[39mHello World!\u001b[39m\u001b[39m\"\u001b[39m\n\u001b[1;32m----> <a href='vscode-notebook-cell:/c%3A/Users/Dell/moi/Documents/_Q9/lelec2796/Project_noma-xdma/LELEC2796-Juju-Baba/CDMA.ipynb#X10sZmlsZQ%3D%3D?line=3'>4</a>\u001b[0m data_message \u001b[39m=\u001b[39m String2Binary(message, tx_params)\n\u001b[0;32m      <a href='vscode-notebook-cell:/c%3A/Users/Dell/moi/Documents/_Q9/lelec2796/Project_noma-xdma/LELEC2796-Juju-Baba/CDMA.ipynb#X10sZmlsZQ%3D%3D?line=5'>6</a>\u001b[0m ebn0 \u001b[39m=\u001b[39m np\u001b[39m.\u001b[39marange(\u001b[39m0\u001b[39m, \u001b[39m21\u001b[39m, \u001b[39m1\u001b[39m)\n\u001b[0;32m      <a href='vscode-notebook-cell:/c%3A/Users/Dell/moi/Documents/_Q9/lelec2796/Project_noma-xdma/LELEC2796-Juju-Baba/CDMA.ipynb#X10sZmlsZQ%3D%3D?line=6'>7</a>\u001b[0m snr_db \u001b[39m=\u001b[39m ebn0 \u001b[39m+\u001b[39m \u001b[39m10\u001b[39m\u001b[39m*\u001b[39mnp\u001b[39m.\u001b[39mlog10(tx_params[\u001b[39m\"\u001b[39m\u001b[39mcorrectorRate\u001b[39m\u001b[39m\"\u001b[39m]) \u001b[39m+\u001b[39m \u001b[39m10\u001b[39m\u001b[39m*\u001b[39mnp\u001b[39m.\u001b[39mlog10(nmodbits)\n",
      "\u001b[1;31mTypeError\u001b[0m: String2Binary() takes 1 positional argument but 2 were given"
     ]
    }
   ],
   "source": [
    "nmodbits = 2\n",
    "channel = sionna.channel.AWGN()\n",
    "message = \"Hello World!\"\n",
    "data_message = String2Binary(message, tx_params)\n",
    "\n",
    "ebn0 = np.arange(0, 21, 1)\n",
    "snr_db = ebn0 + 10*np.log10(tx_params[\"correctorRate\"]) + 10*np.log10(nmodbits)\n",
    "\n",
    "message_OnlyCode = ['']*tx_params[\"nUsers\"]\n",
    "message_ChannelNoise = ['']*tx_params[\"nUsers\"]\n",
    "message_ZeroForcing = ['']*tx_params[\"nUsers\"]\n",
    "\n",
    "for i in range(len(ebn0)) :\n",
    "  data_channel = CDMA_encode(data_message, tx_params)\n",
    "    \n",
    "  h = Rayleigh_canal(0, len(data_channel))\n",
    "  var_noise = 1/(10**(0.1*snr_db[i]))\n",
    "  n = (1j*np.random.normal(scale=np.sqrt(var_noise/2),size=data_channel.shape) \n",
    "       + np.random.normal(scale=np.sqrt(var_noise/2),size=data_channel.shape))\n",
    "  channel = data_channel*h + n\n",
    "  zero_forcing = channel/h\n",
    "    \n",
    "  decoded_OnlyCode = CDMA_decode(data_channel, tx_params)\n",
    "  decoded_ChannelNoise = CDMA_decode(channel, tx_params)\n",
    "  decoded_ZeroForcing = CDMA_decode(zero_forcing, tx_params)\n",
    "\n",
    "  for j in range(tx_params[\"nUsers\"]):\n",
    "    message_OnlyCode[j] = Binary2String(decoded_OnlyCode[j])\n",
    "    message_ChannelNoise[j] = Binary2String(decoded_ChannelNoise[j])\n",
    "    message_ZeroForcing[j] = Binary2String(decoded_ZeroForcing[j])\n",
    "\n",
    "  print(\"SNR [dB] = \" + str(i))\n",
    "  print('')\n",
    "  print(\"OnlyCode\" + \"     : \" + str(message_OnlyCode))\n",
    "  print(\"ChannelNoise : \" + str(message_ChannelNoise))\n",
    "  print(\"ZeroForcing\" + \"  : \" + str(message_ZeroForcing))\n",
    "  print('----------------------------------------------')\n",
    "  print('')"
   ]
  },
  {
   "cell_type": "markdown",
   "metadata": {},
   "source": [
    "Now that we have done something fun, it's time to compute a bit of outage probability."
   ]
  },
  {
   "cell_type": "code",
   "execution_count": null,
   "metadata": {},
   "outputs": [],
   "source": [
    "# HERE OUTAGE PROBABILITY"
   ]
  }
 ],
 "metadata": {
  "kernelspec": {
   "display_name": "Python 3",
   "language": "python",
   "name": "python3"
  },
  "language_info": {
   "codemirror_mode": {
    "name": "ipython",
    "version": 3
   },
   "file_extension": ".py",
   "mimetype": "text/x-python",
   "name": "python",
   "nbconvert_exporter": "python",
   "pygments_lexer": "ipython3",
   "version": "3.11.0"
  }
 },
 "nbformat": 4,
 "nbformat_minor": 2
}
