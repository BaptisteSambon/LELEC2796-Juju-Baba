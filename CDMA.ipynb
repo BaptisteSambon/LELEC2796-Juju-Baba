{
 "cells": [
  {
   "cell_type": "markdown",
   "metadata": {},
   "source": [
    "Some useful imports."
   ]
  },
  {
   "cell_type": "code",
   "execution_count": 5,
   "metadata": {},
   "outputs": [],
   "source": [
    "import numpy as np\n",
    "\n",
    "\"\"\"# Import Sionna\n",
    "try:\n",
    "    import sionna\n",
    "except ImportError as e:\n",
    "    # Install Sionna if package is not already installed\n",
    "    import os\n",
    "    os.system(\"pip install sionna\")\n",
    "    import sionna\n",
    "import tensorflow as tf\"\"\"\n",
    "\n",
    "from utils import CDMA_encode, CDMA_decode, random_data, Binary2PlusMinusOne, PlusMinusOne2Binary, generate_bit_sequences, random_code\n",
    "import matplotlib.pyplot as plt\n",
    "from termcolor import colored\n",
    "from scipy.special import erfc\n",
    "\n",
    "class bcolors:\n",
    "    OK = \"\\033[92m\"  # GREEN\n",
    "    WARNING = \"\\033[93m\"  # YELLOW\n",
    "    FAIL = \"\\033[91m\"  # RED\n",
    "    RESET = \"\\033[0m\"  # RESET COLOR"
   ]
  },
  {
   "cell_type": "markdown",
   "metadata": {},
   "source": [
    "Input data and used parameters."
   ]
  },
  {
   "cell_type": "code",
   "execution_count": 6,
   "metadata": {},
   "outputs": [
    {
     "name": "stdout",
     "output_type": "stream",
     "text": [
      "We want to transmit the following data to 4 users.\n",
      "[[1. 0. 0.]\n",
      " [0. 1. 0.]\n",
      " [0. 1. 1.]\n",
      " [1. 0. 1.]]\n",
      "Therefore we encode via CDMA and we get the following no-noise channel.\n",
      "[ 0.  0.  0.  0.  0.  0. -4. -4.  0.  0.  0.  0.  0.  0.  4.  4.  0.  0.\n",
      "  4.  4.  0.  0.  0.  0.]\n",
      "Finally this is the estimated transmitted data from the CDMA decoder.\n",
      "[[1. 0. 0.]\n",
      " [0. 1. 0.]\n",
      " [0. 1. 1.]\n",
      " [1. 0. 1.]]\n",
      "\u001b[92mWell Done !\u001b[0m\n"
     ]
    }
   ],
   "source": [
    "tx_params = {\n",
    "    \"nUsers\" : 4,\n",
    "    \"powerAllocation\" : np.zeros(3),\n",
    "    \"nMessage\" : 3,\n",
    "    \"cCode\" : 3,\n",
    "    \"correctorRate\" : 1/2,\n",
    "    \"nCodeCDMA\" : 8,\n",
    "    \"symb_freq\" : 25e3,\n",
    "    \"codes\" : []\n",
    "}\n",
    "\n",
    "data = random_data(tx_params)\n",
    "data_out = CDMA_encode(data, tx_params)\n",
    "data_estimated = CDMA_decode(data_out, tx_params)\n",
    "for i in range(tx_params[\"nUsers\"]):\n",
    "    data[i] = PlusMinusOne2Binary(data[i], int)\n",
    "\n",
    "print(\"We want to transmit the following data to \"+str(tx_params[\"nUsers\"])+\" users.\")\n",
    "print(data)\n",
    "print(\"Therefore we encode via CDMA and we get the following no-noise channel.\")\n",
    "print(data_out)\n",
    "print(\"Finally this is the estimated transmitted data from the CDMA decoder.\")\n",
    "print(data_estimated)\n",
    "\n",
    "if((data_estimated==data).all()) : \n",
    "    print(bcolors.OK + \"Well Done !\" + bcolors.RESET)\n",
    "else : \n",
    "    print(bcolors.WARNING + \"Try Again...\" + bcolors.RESET)"
   ]
  }
 ],
 "metadata": {
  "kernelspec": {
   "display_name": "Python 3",
   "language": "python",
   "name": "python3"
  },
  "language_info": {
   "codemirror_mode": {
    "name": "ipython",
    "version": 3
   },
   "file_extension": ".py",
   "mimetype": "text/x-python",
   "name": "python",
   "nbconvert_exporter": "python",
   "pygments_lexer": "ipython3",
   "version": "3.11.0"
  }
 },
 "nbformat": 4,
 "nbformat_minor": 2
}
