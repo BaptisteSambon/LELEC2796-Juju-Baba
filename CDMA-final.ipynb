{
 "cells": [
  {
   "cell_type": "markdown",
   "metadata": {},
   "source": [
    "**Welcome to this Notebook!**\n",
    "\n",
    "UCLouvain - EPL - made by Justin Weeamels & Baptiste Sambon - 2023\n",
    "\n",
    "*Step by step you will discover how we implemented and simulated a dowlink communication using the Code Divison Multiple Access method.*\n",
    "\n",
    "*At first, let's import some packages like numpy, tensorflow, matplotlib, scipy and more importantly sionna and our home-made utils.py file. **As said in the README, run this file twice!***"
   ]
  },
  {
   "cell_type": "code",
   "execution_count": 11,
   "metadata": {},
   "outputs": [],
   "source": [
    "import numpy as np\n",
    "try:\n",
    "    import sionna\n",
    "except ImportError as e:\n",
    "    import os\n",
    "    os.system(\"py -m pip install sionna\")\n",
    "    import sionna\n",
    "import tensorflow as tf\n",
    "import utils\n",
    "import matplotlib.pyplot as plt\n",
    "from scipy.special import erfc\n",
    "from scipy.linalg import hadamard\n",
    "import random"
   ]
  },
  {
   "cell_type": "markdown",
   "metadata": {},
   "source": [
    "*This is the initialization of the needed parameters as a dictionay named tx_params. Because we are in a perfect CSI case, these informations will be sent from the BS to the UE as a pilot before any communication.*"
   ]
  },
  {
   "cell_type": "code",
   "execution_count": 12,
   "metadata": {},
   "outputs": [],
   "source": [
    "tx_params = {\n",
    "    \"nUsers\" : 3,               # The number of UE.\n",
    "    \"powerAllocation_dB\" : 0,   # The power allocated to the communication at the BS in dB.\n",
    "    \"nMessage\" : 6,             # The number of bits representing the message to send.\n",
    "    \"nCodeCDMA\" : 32,           # The number of bits used for the Walsh-Hadamard codes creation.\n",
    "    \"codes\" : [],               # The array containing every created Walsh-Hadamard codes.\n",
    "    \"nGold\" : 1024              # The number of bits used for the Gold codes creation.\n",
    "}"
   ]
  },
  {
   "cell_type": "markdown",
   "metadata": {},
   "source": [
    "*In order for you to compare with metrics you already know, we plotted here the BER/SNR curves of both the CDMA method and a basic case with an AWGN channel.*"
   ]
  },
  {
   "cell_type": "code",
   "execution_count": 13,
   "metadata": {},
   "outputs": [
    {
     "name": "stdout",
     "output_type": "stream",
     "text": [
      "Eb/N0 = 0,  BER = 0.502166667\n"
     ]
    },
    {
     "ename": "KeyboardInterrupt",
     "evalue": "",
     "output_type": "error",
     "traceback": [
      "\u001b[1;31m---------------------------------------------------------------------------\u001b[0m",
      "\u001b[1;31mKeyboardInterrupt\u001b[0m                         Traceback (most recent call last)",
      "Cell \u001b[1;32mIn[13], line 40\u001b[0m\n\u001b[0;32m     38\u001b[0m \u001b[38;5;66;03m# Creating a Rayleigh fading channel and random complex noise.\u001b[39;00m\n\u001b[0;32m     39\u001b[0m h \u001b[38;5;241m=\u001b[39m utils\u001b[38;5;241m.\u001b[39mRayleigh_canal(alpha, \u001b[38;5;28mlen\u001b[39m(encoded))\n\u001b[1;32m---> 40\u001b[0m n \u001b[38;5;241m=\u001b[39m (\u001b[38;5;241m1\u001b[39mj\u001b[38;5;241m*\u001b[39m\u001b[43mnp\u001b[49m\u001b[38;5;241;43m.\u001b[39;49m\u001b[43mrandom\u001b[49m\u001b[38;5;241;43m.\u001b[39;49m\u001b[43mnormal\u001b[49m\u001b[43m(\u001b[49m\u001b[43mscale\u001b[49m\u001b[38;5;241;43m=\u001b[39;49m\u001b[43mnp\u001b[49m\u001b[38;5;241;43m.\u001b[39;49m\u001b[43msqrt\u001b[49m\u001b[43m(\u001b[49m\u001b[43mvar_noise\u001b[49m\u001b[38;5;241;43m/\u001b[39;49m\u001b[38;5;241;43m2\u001b[39;49m\u001b[43m)\u001b[49m\u001b[43m,\u001b[49m\u001b[43msize\u001b[49m\u001b[38;5;241;43m=\u001b[39;49m\u001b[43mencoded\u001b[49m\u001b[38;5;241;43m.\u001b[39;49m\u001b[43mshape\u001b[49m\u001b[43m)\u001b[49m \n\u001b[0;32m     41\u001b[0m      \u001b[38;5;241m+\u001b[39m np\u001b[38;5;241m.\u001b[39mrandom\u001b[38;5;241m.\u001b[39mnormal(scale\u001b[38;5;241m=\u001b[39mnp\u001b[38;5;241m.\u001b[39msqrt(var_noise\u001b[38;5;241m/\u001b[39m\u001b[38;5;241m2\u001b[39m),size\u001b[38;5;241m=\u001b[39mencoded\u001b[38;5;241m.\u001b[39mshape))\n\u001b[0;32m     43\u001b[0m \u001b[38;5;66;03m# The received signal expression will thus be the following line.\u001b[39;00m\n\u001b[0;32m     44\u001b[0m \u001b[38;5;66;03m# A sum of the encoded data passing through the channel, some random noise and some random interferences.\u001b[39;00m\n\u001b[0;32m     45\u001b[0m \u001b[38;5;66;03m# We represent the Gold code action by cancelling the ICI thanks to the crosscorrelation coefficients.\u001b[39;00m\n\u001b[0;32m     46\u001b[0m received \u001b[38;5;241m=\u001b[39m encoded\u001b[38;5;241m*\u001b[39mh \u001b[38;5;241m+\u001b[39m n \u001b[38;5;241m+\u001b[39m signalOtherCells\u001b[38;5;241m*\u001b[39m(xCorrPositive\u001b[38;5;241m-\u001b[39mxCorrNegative)\u001b[38;5;241m/\u001b[39mtx_params[\u001b[38;5;124m\"\u001b[39m\u001b[38;5;124mnGold\u001b[39m\u001b[38;5;124m\"\u001b[39m]\n",
      "\u001b[1;31mKeyboardInterrupt\u001b[0m: "
     ]
    }
   ],
   "source": [
    "# Initialization of the to-be-send message as a sionna object.\n",
    "binary_source = sionna.utils.BinarySource()\n",
    "\n",
    "# Some parameters used to loop on the different SNR values and evaluate the BER.\n",
    "ebn0 = np.arange(0, 21, 1)\n",
    "nb_seq = 1000\n",
    "alpha = 0\n",
    "ber = np.zeros(len(ebn0))\n",
    "\n",
    "# Crosscorrelation coefficients extracted using the Gold codes to simulate the ICI.\n",
    "# xCorrNegative is the negative bound and xCorrPositive the positive one of the coefficients.\n",
    "# xCorrOsef = 1 and won't be used because we only care about the bounds.\n",
    "xCorrNegative, xCorrOsef, xCorrPositive = utils.goldcode(tx_params[\"nGold\"])\n",
    "\n",
    "for i in range(len(ebn0)):\n",
    "\n",
    "    # Noise variance and ber_i is an array used to compute the final BER mean value for each SNR.\n",
    "    var_noise = 1/(10**(0.1*ebn0[i]))\n",
    "    ber_i = np.zeros(nb_seq)\n",
    "\n",
    "    # Loop on a lot of cases where the communication is reinitialized each time.\n",
    "    # Each time, a new channel, a new code, new interferences, a new noise are created.\n",
    "    for j in range(nb_seq):\n",
    "\n",
    "        # Array containing the random messages for each UE.\n",
    "        # These messages are encoded following the CDMA method.\n",
    "        # These -1/+1 messages can now be sent through the channel from the BS to the UE.\n",
    "        data = binary_source([tx_params[\"nUsers\"], tx_params[\"nMessage\"]]).numpy()\n",
    "        encoded = utils.CDMA_encode(data, tx_params)\n",
    "\n",
    "        # This small series of code lines will simulate random data sent by other cells by received by our UE.\n",
    "        # IT will be used with the Gold codes to represent the ICI.\n",
    "        signalOtherCells = np.zeros(encoded.shape[0])\n",
    "        for k in range(encoded.shape[0]):\n",
    "            signalOtherCells[k] = random.randint(0, 1)\n",
    "        signalOtherCells = utils.Binary2PlusMinusOne(signalOtherCells, int)\n",
    "\n",
    "        # Creating a Rayleigh fading channel and random complex noise.\n",
    "        h = utils.Rayleigh_canal(alpha, len(encoded))\n",
    "        n = (1j*np.random.normal(scale=np.sqrt(var_noise/2),size=encoded.shape) \n",
    "             + np.random.normal(scale=np.sqrt(var_noise/2),size=encoded.shape))\n",
    "        \n",
    "        # The received signal expression will thus be the following line.\n",
    "        # A sum of the encoded data passing through the channel, some random noise and some random interferences.\n",
    "        # We represent the Gold code action by cancelling the ICI thanks to the crosscorrelation coefficients.\n",
    "        received = encoded*h + n + signalOtherCells*(xCorrPositive-xCorrNegative)/tx_params[\"nGold\"]\n",
    "\n",
    "        # At the UE, the received data is equalized using MMSE and then decoded with CDMA.\n",
    "        mmse = utils.MyMMSE(encoded, h, var_noise, received)\n",
    "        decoded = utils.CDMA_decode(mmse, tx_params)\n",
    "\n",
    "        # Here we use tensorflow and sionna functions to compute the BER metric of the latter decoded signal.\n",
    "        decoded_tf = tf.convert_to_tensor(decoded)\n",
    "        decoded_tf = tf.cast(tf.less(0.0, decoded_tf), tf.float32)\n",
    "        BinarySource = tf.cast(tf.less(0.0, data), tf.float32)\n",
    "        ber_j = sionna.utils.metrics.compute_ber(BinarySource, decoded_tf)\n",
    "        ber_i[j] = ber_j.numpy()\n",
    "        \n",
    "    # Compute the final BER mean value for a specific SNR.\n",
    "    ber[i] = np.mean(ber_i)\n",
    "\n",
    "    # A nice print to see the BER result for each Eb/N0 value.\n",
    "    print(\"Eb/N0 = \" + str(ebn0[i]) + \", \" + \" \"*(i<10) + \"BER = \" + f\"{ber[i]:.9f}\")"
   ]
  },
  {
   "cell_type": "markdown",
   "metadata": {},
   "source": [
    "*Now that this important metric has been computed for several Eb/N0 values, we can plot them nicely.*"
   ]
  },
  {
   "cell_type": "code",
   "execution_count": null,
   "metadata": {},
   "outputs": [
    {
     "data": {
      "image/png": "[encoded data removed]",
      "text/plain": [
       "<Figure size 640x480 with 1 Axes>"
      ]
     },
     "metadata": {},
     "output_type": "display_data"
    }
   ],
   "source": [
    "ber_awgn = (1/2)*erfc(np.sqrt(10**(0.1*ebn0)/2))\n",
    "\n",
    "plt.figure()\n",
    "plt.semilogy(ebn0, ber, \"D-\", label=\"CDMA\", color=\"black\")\n",
    "plt.plot(ebn0, ber_awgn, label=\"AWGN\", color=\"black\")\n",
    "plt.xlabel(\"SNR [dB]\")\n",
    "plt.ylabel(\"BER\")\n",
    "plt.xscale(\"linear\")\n",
    "plt.yscale(\"log\")\n",
    "plt.grid(which=\"both\")\n",
    "plt.legend()\n",
    "plt.ylim([10**(-12), 0.8])\n",
    "plt.title(\"BER SNR curves comparison : AWGN & CDMA\")\n",
    "plt.savefig(\"CDMA-images/MyBERSNR.png\")\n",
    "plt.show()"
   ]
  },
  {
   "cell_type": "markdown",
   "metadata": {},
   "source": [
    "*Let's discover the variability of the CDMA method in function of its main parameters. We will begin this kind of dependancy analysis with varying the number of UE in the scenario.*"
   ]
  },
  {
   "cell_type": "code",
   "execution_count": null,
   "metadata": {},
   "outputs": [
    {
     "ename": "InvalidArgumentError",
     "evalue": "{{function_node __wrapped__NotEqual_device_/job:localhost/replica:0/task:0/device:CPU:0}} Incompatible shapes: [3,6] vs. [3,2] [Op:NotEqual] name: ",
     "output_type": "error",
     "traceback": [
      "\u001b[1;31m---------------------------------------------------------------------------\u001b[0m",
      "\u001b[1;31mInvalidArgumentError\u001b[0m                      Traceback (most recent call last)",
      "Cell \u001b[1;32mIn[6], line 71\u001b[0m\n\u001b[0;32m     69\u001b[0m     decoded_tf \u001b[38;5;241m=\u001b[39m tf\u001b[38;5;241m.\u001b[39mcast(tf\u001b[38;5;241m.\u001b[39mless(\u001b[38;5;241m0.0\u001b[39m, decoded_tf), tf\u001b[38;5;241m.\u001b[39mfloat32)\n\u001b[0;32m     70\u001b[0m     BinarySource \u001b[38;5;241m=\u001b[39m tf\u001b[38;5;241m.\u001b[39mcast(tf\u001b[38;5;241m.\u001b[39mless(\u001b[38;5;241m0.0\u001b[39m, BinarySource), tf\u001b[38;5;241m.\u001b[39mfloat32)\n\u001b[1;32m---> 71\u001b[0m     ber_j \u001b[38;5;241m=\u001b[39m \u001b[43msionna\u001b[49m\u001b[38;5;241;43m.\u001b[39;49m\u001b[43mutils\u001b[49m\u001b[38;5;241;43m.\u001b[39;49m\u001b[43mmetrics\u001b[49m\u001b[38;5;241;43m.\u001b[39;49m\u001b[43mcompute_ber\u001b[49m\u001b[43m(\u001b[49m\u001b[43mBinarySource\u001b[49m\u001b[43m,\u001b[49m\u001b[43m \u001b[49m\u001b[43mdecoded_tf\u001b[49m\u001b[43m)\u001b[49m\n\u001b[0;32m     72\u001b[0m     ber_i[j] \u001b[38;5;241m=\u001b[39m ber_j\u001b[38;5;241m.\u001b[39mnumpy()\n\u001b[0;32m     74\u001b[0m \u001b[38;5;66;03m# Compute the final BER mean value for a specific SNR.\u001b[39;00m\n",
      "File \u001b[1;32mc:\\Users\\Dell\\AppData\\Local\\Programs\\Python\\Python311\\Lib\\site-packages\\sionna\\utils\\metrics.py:116\u001b[0m, in \u001b[0;36mcompute_ber\u001b[1;34m(b, b_hat)\u001b[0m\n\u001b[0;32m     98\u001b[0m \u001b[38;5;28;01mdef\u001b[39;00m \u001b[38;5;21mcompute_ber\u001b[39m(b, b_hat):\n\u001b[0;32m     99\u001b[0m \u001b[38;5;250m    \u001b[39m\u001b[38;5;124;03m\"\"\"Computes the bit error rate (BER) between two binary tensors.\u001b[39;00m\n\u001b[0;32m    100\u001b[0m \n\u001b[0;32m    101\u001b[0m \u001b[38;5;124;03m    Input\u001b[39;00m\n\u001b[1;32m   (...)\u001b[0m\n\u001b[0;32m    114\u001b[0m \u001b[38;5;124;03m            A scalar, the BER.\u001b[39;00m\n\u001b[0;32m    115\u001b[0m \u001b[38;5;124;03m    \"\"\"\u001b[39;00m\n\u001b[1;32m--> 116\u001b[0m     ber \u001b[38;5;241m=\u001b[39m \u001b[43mtf\u001b[49m\u001b[38;5;241;43m.\u001b[39;49m\u001b[43mnot_equal\u001b[49m\u001b[43m(\u001b[49m\u001b[43mb\u001b[49m\u001b[43m,\u001b[49m\u001b[43m \u001b[49m\u001b[43mb_hat\u001b[49m\u001b[43m)\u001b[49m\n\u001b[0;32m    117\u001b[0m     ber \u001b[38;5;241m=\u001b[39m tf\u001b[38;5;241m.\u001b[39mcast(ber, tf\u001b[38;5;241m.\u001b[39mfloat64) \u001b[38;5;66;03m# tf.float64 to suport large batch-sizes\u001b[39;00m\n\u001b[0;32m    118\u001b[0m     \u001b[38;5;28;01mreturn\u001b[39;00m tf\u001b[38;5;241m.\u001b[39mreduce_mean(ber)\n",
      "File \u001b[1;32mc:\\Users\\Dell\\AppData\\Local\\Programs\\Python\\Python311\\Lib\\site-packages\\tensorflow\\python\\util\\traceback_utils.py:153\u001b[0m, in \u001b[0;36mfilter_traceback.<locals>.error_handler\u001b[1;34m(*args, **kwargs)\u001b[0m\n\u001b[0;32m    151\u001b[0m \u001b[38;5;28;01mexcept\u001b[39;00m \u001b[38;5;167;01mException\u001b[39;00m \u001b[38;5;28;01mas\u001b[39;00m e:\n\u001b[0;32m    152\u001b[0m   filtered_tb \u001b[38;5;241m=\u001b[39m _process_traceback_frames(e\u001b[38;5;241m.\u001b[39m__traceback__)\n\u001b[1;32m--> 153\u001b[0m   \u001b[38;5;28;01mraise\u001b[39;00m e\u001b[38;5;241m.\u001b[39mwith_traceback(filtered_tb) \u001b[38;5;28;01mfrom\u001b[39;00m \u001b[38;5;28mNone\u001b[39m\n\u001b[0;32m    154\u001b[0m \u001b[38;5;28;01mfinally\u001b[39;00m:\n\u001b[0;32m    155\u001b[0m   \u001b[38;5;28;01mdel\u001b[39;00m filtered_tb\n",
      "File \u001b[1;32mc:\\Users\\Dell\\AppData\\Local\\Programs\\Python\\Python311\\Lib\\site-packages\\tensorflow\\python\\framework\\ops.py:5883\u001b[0m, in \u001b[0;36mraise_from_not_ok_status\u001b[1;34m(e, name)\u001b[0m\n\u001b[0;32m   5881\u001b[0m \u001b[38;5;28;01mdef\u001b[39;00m \u001b[38;5;21mraise_from_not_ok_status\u001b[39m(e, name) \u001b[38;5;241m-\u001b[39m\u001b[38;5;241m>\u001b[39m NoReturn:\n\u001b[0;32m   5882\u001b[0m   e\u001b[38;5;241m.\u001b[39mmessage \u001b[38;5;241m+\u001b[39m\u001b[38;5;241m=\u001b[39m (\u001b[38;5;124m\"\u001b[39m\u001b[38;5;124m name: \u001b[39m\u001b[38;5;124m\"\u001b[39m \u001b[38;5;241m+\u001b[39m \u001b[38;5;28mstr\u001b[39m(name \u001b[38;5;28;01mif\u001b[39;00m name \u001b[38;5;129;01mis\u001b[39;00m \u001b[38;5;129;01mnot\u001b[39;00m \u001b[38;5;28;01mNone\u001b[39;00m \u001b[38;5;28;01melse\u001b[39;00m \u001b[38;5;124m\"\u001b[39m\u001b[38;5;124m\"\u001b[39m))\n\u001b[1;32m-> 5883\u001b[0m   \u001b[38;5;28;01mraise\u001b[39;00m core\u001b[38;5;241m.\u001b[39m_status_to_exception(e) \u001b[38;5;28;01mfrom\u001b[39;00m \u001b[38;5;28mNone\u001b[39m\n",
      "\u001b[1;31mInvalidArgumentError\u001b[0m: {{function_node __wrapped__NotEqual_device_/job:localhost/replica:0/task:0/device:CPU:0}} Incompatible shapes: [3,6] vs. [3,2] [Op:NotEqual] name: "
     ]
    },
    {
     "data": {
      "text/plain": [
       "<Figure size 640x480 with 0 Axes>"
      ]
     },
     "metadata": {},
     "output_type": "display_data"
    }
   ],
   "source": [
    "# Varying the number of UE in the scenario.\n",
    "UserEquipements = [2, 4, 8, 16]\n",
    "\n",
    "# Initialization of the to-be-send message as a sionna object.\n",
    "binary_source = sionna.utils.BinarySource()\n",
    "\n",
    "# Some parameters used to loop on the different SNR values and evaluate the BER.\n",
    "ebn0 = np.arange(0, 21, 1)\n",
    "nb_seq = 1000\n",
    "alpha = 0\n",
    "ber = np.zeros(len(ebn0))\n",
    "\n",
    "# Crosscorrelation coefficients extracted using the Gold codes to simulate the ICI.\n",
    "# xCorrNegative is the negative bound and xCorrPositive the positive one of the coefficients.\n",
    "# xCorrOsef = 1 and won't be used because we only care about the bounds.\n",
    "xCorrNegative, xCorrOsef, xCorrPositive = utils.goldcode(tx_params[\"nGold\"])\n",
    "\n",
    "# Creating the environment for the futur plots.\n",
    "plt.figure()\n",
    "symbols = [\"D-\", \"o-\", \"s-\", \"^-\"]\n",
    "\n",
    "for user in range(len(UserEquipements)):\n",
    "\n",
    "    # Setting up the current number of UE in the tx_params dictionary.\n",
    "    tx_params[\"nMessage\"] = UserEquipements[user]\n",
    "\n",
    "    for i in range(len(ebn0)):\n",
    "\n",
    "        # Noise variance and ber_i is an array used to compute the final BER mean value for each SNR.\n",
    "        var_noise = 1/(10**(0.1*ebn0[i]))\n",
    "        ber_i = np.zeros(nb_seq)\n",
    "\n",
    "        # Loop on a lot of cases where the communication is reinitialized each time.\n",
    "        # Each time, a new channel, a new code, new interferences, a new noise are created.\n",
    "        for j in range(nb_seq):\n",
    "\n",
    "            # Array containing the random messages for each UE.\n",
    "            # These messages are encoded following the CDMA method.\n",
    "            # These -1/+1 messages can now be sent through the channel from the BS to the UE.\n",
    "            data = binary_source([tx_params[\"nUsers\"], tx_params[\"nMessage\"]]).numpy()\n",
    "            encoded = utils.CDMA_encode(data, tx_params)\n",
    "\n",
    "            # This small series of code lines will simulate random data sent by other cells by received by our UE.\n",
    "            # IT will be used with the Gold codes to represent the ICI.\n",
    "            signalOtherCells = np.zeros(encoded.shape[0])\n",
    "            for k in range(encoded.shape[0]):\n",
    "                signalOtherCells[k] = random.randint(0, 1)\n",
    "            signalOtherCells = utils.Binary2PlusMinusOne(signalOtherCells, int)\n",
    "\n",
    "            # Creating a Rayleigh fading channel and random complex noise.\n",
    "            h = utils.Rayleigh_canal(alpha, len(encoded))\n",
    "            n = (1j*np.random.normal(scale=np.sqrt(var_noise/2),size=encoded.shape) \n",
    "                + np.random.normal(scale=np.sqrt(var_noise/2),size=encoded.shape))\n",
    "            \n",
    "            # The received signal expression will thus be the following line.\n",
    "            # A sum of the encoded data passing through the channel, some random noise and some random interferences.\n",
    "            # We represent the Gold code action by cancelling the ICI thanks to the crosscorrelation coefficients.\n",
    "            received = encoded*h + n + signalOtherCells*(xCorrPositive-xCorrNegative)/tx_params[\"nGold\"]\n",
    "\n",
    "            # At the UE, the received data is equalized using MMSE and then decoded with CDMA.\n",
    "            mmse = utils.MyMMSE(encoded, h, var_noise, received)\n",
    "            decoded = utils.CDMA_decode(mmse, tx_params)\n",
    "\n",
    "            # Here we use tensorflow and sionna functions to compute the BER metric of the latter decoded signal.\n",
    "            decoded_tf = tf.convert_to_tensor(decoded)\n",
    "            decoded_tf = tf.cast(tf.less(0.0, decoded_tf), tf.float32)\n",
    "            BinarySource = tf.cast(tf.less(0.0, BinarySource), tf.float32)\n",
    "            ber_j = sionna.utils.metrics.compute_ber(BinarySource, decoded_tf)\n",
    "            ber_i[j] = ber_j.numpy()\n",
    "            \n",
    "        # Compute the final BER mean value for a specific SNR.\n",
    "        ber[i] = np.mean(ber_i)\n",
    "\n",
    "    # A nice plot of the corresponding BER/SNR curve for the current UE.\n",
    "    plt.semilogy(ebn0, ber, symbols[user], label=\"CDMA-\"+str(UserEquipements[user])+\"_users\", color=\"black\")"
   ]
  },
  {
   "cell_type": "markdown",
   "metadata": {},
   "source": [
    "*Each plots are now computed, so let's jump into the resulting figure.*"
   ]
  },
  {
   "cell_type": "code",
   "execution_count": null,
   "metadata": {},
   "outputs": [],
   "source": [
    "plt.xlabel(\"SNR [dB]\")\n",
    "plt.ylabel(\"BER\")\n",
    "plt.xscale(\"linear\")\n",
    "plt.yscale(\"log\")\n",
    "plt.grid(which=\"both\")\n",
    "plt.legend()\n",
    "# plt.ylim([10**(-12), 0.8])\n",
    "plt.title(\"BER SNR curves comparison : UE's quantity dependancy\")\n",
    "plt.savefig(\"CDMA-images/MyBERSNRuser.png\")\n",
    "plt.show()\n",
    "\n",
    "# Reset of the initial UE number.\n",
    "tx_params[\"nUsers\"] = 3"
   ]
  },
  {
   "cell_type": "markdown",
   "metadata": {},
   "source": [
    "*Let's investigate if the length of the actual message sent by the BS will change the BER metric significantly.*"
   ]
  },
  {
   "cell_type": "code",
   "execution_count": null,
   "metadata": {},
   "outputs": [],
   "source": [
    "# Varying the number of bits in the message in the scenario.\n",
    "message = [8, 32, 64, 128]\n",
    "\n",
    "# Initialization of the to-be-send message as a sionna object.\n",
    "binary_source = sionna.utils.BinarySource()\n",
    "\n",
    "# Some parameters used to loop on the different SNR values and evaluate the BER.\n",
    "ebn0 = np.arange(0, 21, 1)\n",
    "nb_seq = 1000\n",
    "alpha = 0\n",
    "ber = np.zeros(len(ebn0))\n",
    "\n",
    "# Crosscorrelation coefficients extracted using the Gold codes to simulate the ICI.\n",
    "# xCorrNegative is the negative bound and xCorrPositive the positive one of the coefficients.\n",
    "# xCorrOsef = 1 and won't be used because we only care about the bounds.\n",
    "xCorrNegative, xCorrOsef, xCorrPositive = utils.goldcode(tx_params[\"nGold\"])\n",
    "\n",
    "# Creating the environment for the futur plots.\n",
    "plt.figure()\n",
    "symbols = [\"D-\", \"o-\", \"s-\", \"^-\"]\n",
    "\n",
    "for mes in range(len(message)):\n",
    "\n",
    "    # Setting up the current message length in the tx_params dictionary.\n",
    "    tx_params[\"nMessage\"] = message[mes]\n",
    "\n",
    "    for i in range(len(ebn0)):\n",
    "\n",
    "        # Noise variance and ber_i is an array used to compute the final BER mean value for each SNR.\n",
    "        var_noise = 1/(10**(0.1*ebn0[i]))\n",
    "        ber_i = np.zeros(nb_seq)\n",
    "\n",
    "        # Loop on a lot of cases where the communication is reinitialized each time.\n",
    "        # Each time, a new channel, a new code, new interferences, a new noise are created.\n",
    "        for j in range(nb_seq):\n",
    "\n",
    "            # Array containing the random messages for each UE.\n",
    "            # These messages are encoded following the CDMA method.\n",
    "            # These -1/+1 messages can now be sent through the channel from the BS to the UE.\n",
    "            data = binary_source([tx_params[\"nUsers\"], tx_params[\"nMessage\"]]).numpy()\n",
    "            encoded = utils.CDMA_encode(data, tx_params)\n",
    "\n",
    "            # This small series of code lines will simulate random data sent by other cells by received by our UE.\n",
    "            # IT will be used with the Gold codes to represent the ICI.\n",
    "            signalOtherCells = np.zeros(encoded.shape[0])\n",
    "            for k in range(encoded.shape[0]):\n",
    "                signalOtherCells[k] = random.randint(0, 1)\n",
    "            signalOtherCells = utils.Binary2PlusMinusOne(signalOtherCells, int)\n",
    "\n",
    "            # Creating a Rayleigh fading channel and random complex noise.\n",
    "            h = utils.Rayleigh_canal(alpha, len(encoded))\n",
    "            n = (1j*np.random.normal(scale=np.sqrt(var_noise/2),size=encoded.shape) \n",
    "                + np.random.normal(scale=np.sqrt(var_noise/2),size=encoded.shape))\n",
    "            \n",
    "            # The received signal expression will thus be the following line.\n",
    "            # A sum of the encoded data passing through the channel, some random noise and some random interferences.\n",
    "            # We represent the Gold code action by cancelling the ICI thanks to the crosscorrelation coefficients.\n",
    "            received = encoded*h + n + signalOtherCells*(xCorrPositive-xCorrNegative)/tx_params[\"nGold\"]\n",
    "\n",
    "            # At the UE, the received data is equalized using MMSE and then decoded with CDMA.\n",
    "            mmse = utils.MyMMSE(encoded, h, var_noise, received)\n",
    "            decoded = utils.CDMA_decode(mmse, tx_params)\n",
    "\n",
    "            # Here we use tensorflow and sionna functions to compute the BER metric of the latter decoded signal.\n",
    "            decoded_tf = tf.convert_to_tensor(decoded)\n",
    "            decoded_tf = tf.cast(tf.less(0.0, decoded_tf), tf.float32)\n",
    "            BinarySource = tf.cast(tf.less(0.0, BinarySource), tf.float32)\n",
    "            ber_j = sionna.utils.metrics.compute_ber(BinarySource, decoded_tf)\n",
    "            ber_i[j] = ber_j.numpy()\n",
    "            \n",
    "        # Compute the final BER mean value for a specific SNR.\n",
    "        ber[i] = np.mean(ber_i)\n",
    "\n",
    "    # A nice plot of the corresponding BER/SNR curve for the current message's length.\n",
    "    plt.semilogy(ebn0, ber, symbols[mes], label=\"CDMA-\"+str(message[mes])+\"_message's_bits\", color=\"black\")"
   ]
  },
  {
   "cell_type": "markdown",
   "metadata": {},
   "source": [
    "*No time to waste, what are the results?*"
   ]
  },
  {
   "cell_type": "code",
   "execution_count": null,
   "metadata": {},
   "outputs": [],
   "source": [
    "plt.xlabel(\"SNR [dB]\")\n",
    "plt.ylabel(\"BER\")\n",
    "plt.xscale(\"linear\")\n",
    "plt.yscale(\"log\")\n",
    "plt.grid(which=\"both\")\n",
    "plt.legend()\n",
    "plt.title(\"BER SNR curve comparison : message's length dependancy\")\n",
    "plt.savefig(\"CDMA-images/MyBERSNRmessage.png\")\n",
    "plt.show()\n",
    "\n",
    "# Reset of the initial message's number of bits.\n",
    "tx_params[\"nMessage\"] = 6"
   ]
  },
  {
   "cell_type": "markdown",
   "metadata": {},
   "source": [
    "*Another metric to investigate on is the spectral efficiency of the CDMA method. To do so, as done before, we will iterate on a lot of communications and compute the mean of the capacity for a large number of SNR values.*"
   ]
  },
  {
   "cell_type": "code",
   "execution_count": null,
   "metadata": {},
   "outputs": [],
   "source": [
    "# Initialization of the to-be-send message as a sionna object.\n",
    "binary_source = sionna.utils.BinarySource()\n",
    "\n",
    "# Some parameters used to loop on the different SNR values and evaluate the spectral efficiency.\n",
    "ebn0 = np.arange(0, 21, 1)\n",
    "nb_seq = tx_params[\"nMessage\"]*tx_params[\"nCodeCDMA\"]\n",
    "alpha = 0\n",
    "spectral_efficiency = np.zeros(len(ebn0))\n",
    "p_power = 1\n",
    "\n",
    "# Crosscorrelation coefficients extracted using the Gold codes to simulate the ICI.\n",
    "# xCorrNegative is the negative bound and xCorrPositive the positive one of the coefficients.\n",
    "# xCorrOsef = 1 and won't be used because we only care about the bounds.\n",
    "xCorrNegative, xCorrOsef, xCorrPositive = utils.goldcode(tx_params[\"nGold\"])\n",
    "\n",
    "for i in range(len(ebn0)):\n",
    "\n",
    "    # Noise variance and spectral_efficiency_i is an array used to compute the final spectral efficiency mean value for each SNR.\n",
    "    var_noise = 1/(10**(0.1*ebn0[i]))\n",
    "    spectral_efficiency_i = np.zeros(nb_seq)\n",
    "\n",
    "    # Loop on a lot of cases where the communication is reinitialized each time.\n",
    "    # Each time, a new channel, a new code, new interferences, a new noise are created.\n",
    "    for j in range(nb_seq):\n",
    "\n",
    "        # Array containing the random messages for each UE.\n",
    "        # These messages are encoded following the CDMA method.\n",
    "        # These -1/+1 messages can now be sent through the channel from the BS to the UE.\n",
    "        data = binary_source([tx_params[\"nUsers\"], tx_params[\"nMessage\"]]).numpy()\n",
    "        encoded = utils.CDMA_encode(data, tx_params)\n",
    "\n",
    "        # This small series of code lines will simulate random data sent by other cells by received by our UE.\n",
    "        # IT will be used with the Gold codes to represent the ICI.\n",
    "        signalOtherCells = np.zeros(encoded.shape[0])\n",
    "        for k in range(encoded.shape[0]):\n",
    "            signalOtherCells[k] = random.randint(0, 1)\n",
    "        signalOtherCells = utils.Binary2PlusMinusOne(signalOtherCells, int)\n",
    "\n",
    "        # Creating a Rayleigh fading channel and random complex noise.\n",
    "        h = utils.Rayleigh_canal(alpha, len(encoded))\n",
    "        n = (1j*np.random.normal(scale=np.sqrt(var_noise/2),size=encoded.shape) \n",
    "             + np.random.normal(scale=np.sqrt(var_noise/2),size=encoded.shape))\n",
    "        \n",
    "        # Compute the spectral efficiency by using the allocated power and the channel coefficients.\n",
    "        # But also using the noise and interference values.        i_interference = signalOtherCells*(xCorrPositive-xCorrNegative)/tx_params[\"nGold\"]\n",
    "        i_interference = signalOtherCells*(xCorrPositive-xCorrNegative)/tx_params[\"nGold\"]\n",
    "        spectral_efficiency_i[j] = np.log2(1+(p_power*abs(h[j])**2)/(n[j]+i_interference[j]))\n",
    "    \n",
    "    # Compute the final spectral efficiency mean value for a specific SNR.\n",
    "    spectral_efficiency[i] = np.mean(spectral_efficiency_i)\n",
    "\n",
    "    # A nice print to see the spectral efficiency result for each Eb/N0 value.\n",
    "    print(\"Eb/N0 = \" + str(ebn0[i]) + \", \" + \" \"*(i<10) + \"Spectral efficiency = \" + f\"{spectral_efficiency[i]:.9f}\")"
   ]
  },
  {
   "cell_type": "markdown",
   "metadata": {},
   "source": [
    "*Let's discover what this new metric has to tell us about CDMA.*"
   ]
  },
  {
   "cell_type": "code",
   "execution_count": null,
   "metadata": {},
   "outputs": [],
   "source": [
    "plt.figure()\n",
    "plt.plot(ebn0, spectral_efficiency, \"D-\", label=\"CDMA-Spectral_efficiency\", color=\"black\")\n",
    "plt.xlabel(\"SNR [dB]\")\n",
    "plt.ylabel(\"Spectral Efficiency [bits/sec/Hz]\")\n",
    "plt.xscale(\"linear\")\n",
    "# plt.yscale(\"log\")\n",
    "plt.grid(which=\"both\")\n",
    "plt.legend()\n",
    "plt.title(\"Spectral efficiency curve of the used CDMA method\")\n",
    "plt.savefig(\"CDMA-images/Myspectralefficiency.png\")\n",
    "plt.show()"
   ]
  },
  {
   "cell_type": "markdown",
   "metadata": {},
   "source": [
    "*Something else up to here?*"
   ]
  }
 ],
 "metadata": {
  "kernelspec": {
   "display_name": "Python 3",
   "language": "python",
   "name": "python3"
  },
  "language_info": {
   "codemirror_mode": {
    "name": "ipython",
    "version": 3
   },
   "file_extension": ".py",
   "mimetype": "text/x-python",
   "name": "python",
   "nbconvert_exporter": "python",
   "pygments_lexer": "ipython3",
   "version": "3.11.0"
  }
 },
 "nbformat": 4,
 "nbformat_minor": 2
}
