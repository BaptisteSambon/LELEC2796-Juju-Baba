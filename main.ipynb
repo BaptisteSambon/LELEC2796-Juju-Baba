{
  "cells": [
    {
      "cell_type": "code",
      "execution_count": 60,
      "metadata": {
        "id": "y7JT-OVmRIvz"
      },
      "outputs": [],
      "source": [
        "import numpy as np\n",
        "\n",
        "# Import Sionna\n",
        "try:\n",
        "    import sionna\n",
        "except ImportError as e:\n",
        "    # Install Sionna if package is not already installed\n",
        "    import os\n",
        "    os.system(\"pip install sionna\")\n",
        "    import sionna"
      ]
    },
    {
      "cell_type": "code",
      "execution_count": 74,
      "metadata": {
        "id": "irr0-_DsP2od"
      },
      "outputs": [],
      "source": [
        "import numpy as np\n",
        "\n",
        "def NOMA(data, tx_params):\n",
        "\n",
        "    tx_powers = tx_params[\"powerAllocation\"]\n",
        "    n_users = tx_params[\"nUsers\"]\n",
        "\n",
        "    data_out = np.zeros(data.shape[1], dtype=np.complex128)\n",
        "\n",
        "    for i in range(n_users):\n",
        "        data_out += data[i] * np.sqrt(tx_powers[i])\n",
        "\n",
        "    return data_out\n",
        "\n",
        "def Rayleigh_canal(alpha, len) :\n",
        "    h0 = (1j*np.random.normal(scale=np.sqrt(1/2))+np.random.normal(scale=np.sqrt(1/2)))\n",
        "    var_xi = (1-alpha**2)\n",
        "    h = np.zeros(len, dtype=np.complex128)\n",
        "    for i in range(1, len) :\n",
        "      xi = (1j*np.random.normal(scale=np.sqrt(var_xi))+np.random.normal(scale=np.sqrt(var_xi)))\n",
        "      h[i] = alpha*h[i-1] + xi\n",
        "    return np.concatenate((h0, h), axis=None)\n",
        "\n",
        "tx_params = {\n",
        "    \"nUsers\" : 3,\n",
        "    \"powerAllocation\" : np.zeros(3),\n",
        "    \"nCode\" : 6,\n",
        "    \"kCode\" : 3,\n",
        "    \"codingRate\": 1/2,\n",
        "}\n",
        "\n",
        "# NOMA power allocation between the nUsers users\n",
        "\n",
        "# resolve polynomial equation x^3 + 3 x^2 + 2 x^1 = 1\n",
        "# where x is the power allocation of the first user\n",
        "\n",
        "Ptot = 1 # total power allocation\n",
        "polynomial = np.array([1, 3, 2, -1*Ptot])\n",
        "roots = np.roots(polynomial) # roots of polynomial\n",
        "x = roots[np.isreal(roots)][0] # keep only real roots\n",
        "\n",
        "# Example 2: Unequal power allocation\n",
        "P1 = x\n",
        "P2 = (x**2 + x)\n",
        "P3 = (x**3 + 2*x**2 + x)\n",
        "tx_params[\"powerAllocation\"] = np.array([P1, P2, P3])\n"
      ]
    },
    {
      "cell_type": "code",
      "execution_count": 62,
      "metadata": {
        "id": "m6enx9LhP2od"
      },
      "outputs": [],
      "source": [
        "data = np.zeros((tx_params[\"nUsers\"], tx_params[\"nCode\"]))\n",
        "\n",
        "data_out = NOMA(data, tx_params)"
      ]
    },
    {
      "cell_type": "code",
      "source": [
        "nmodbits = 2\n",
        "binary_source = sionna.utils.BinarySource()\n",
        "encoder = sionna.fec.conv.ConvEncoder(rate=tx_params[\"codingRate\"])\n",
        "decoder = sionna.fec.conv.ViterbiDecoder(encoder=encoder, rate=tx_params[\"codingRate\"])\n",
        "constellation = sionna.mapping.Constellation(\"qam\", nmodbits)\n",
        "mapper = sionna.mapping.Mapper(constellation=constellation)\n",
        "demapper = sionna.mapping.Demapper(\"app\",constellation=constellation)"
      ],
      "metadata": {
        "id": "31uYatDRQy6u"
      },
      "execution_count": 63,
      "outputs": []
    },
    {
      "cell_type": "code",
      "source": [
        "ebn0 = np.arange(0, 11, 1) #dB\n",
        "snr_db = ebn0 + 10*np.log10(tx_params[\"codingRate\"]) + 10*np.log10(nmodbits) #dB\n",
        "nb_seq = 1\n",
        "alpha = 0\n",
        "\n",
        "for zz in range(nb_seq) :\n",
        "  for ii in range(len(snr_db)) :\n",
        "\n",
        "      var_noise = 1/(10**(0.1*snr_db[ii]))\n",
        "\n",
        "      # NOMA Power allocation\n",
        "      Ptot = 1 # total power allocation\n",
        "      polynomial = np.array([1, 3, 2, -1*Ptot/var_noise])\n",
        "      roots = np.roots(polynomial) # roots of polynomial\n",
        "      x = roots[np.isreal(roots)][0] # keep only real roots\n",
        "\n",
        "      P1 = x\n",
        "      P2 = (x**2 + x)\n",
        "      P3 = (x**3 + 2*x**2 + x)\n",
        "      tx_params[\"powerAllocation\"] = var_noise*np.array([P1, P2, P3])\n",
        "      #print(P1/var_noise, P2/(P1+var_noise), P3/(P1+P2+var_noise))\n",
        "\n",
        "      data = np.zeros((tx_params[\"nUsers\"], tx_params[\"nCode\"]))\n",
        "      b = binary_source([tx_params[\"nUsers\"], tx_params[\"kCode\"]])\n",
        "      c = encoder(b)\n",
        "      x = mapper(c)\n",
        "      data = x.numpy()\n",
        "\n",
        "      data_out = NOMA(data, tx_params)\n",
        "      h = Rayleigh_canal(alpha, len(data_out))\n",
        "\n",
        "\n"
      ],
      "metadata": {
        "id": "L8YWTLAHSh9t"
      },
      "execution_count": 75,
      "outputs": []
    }
  ],
  "metadata": {
    "colab": {
      "provenance": []
    },
    "kernelspec": {
      "display_name": "base",
      "language": "python",
      "name": "python3"
    },
    "language_info": {
      "codemirror_mode": {
        "name": "ipython",
        "version": 3
      },
      "file_extension": ".py",
      "mimetype": "text/x-python",
      "name": "python",
      "nbconvert_exporter": "python",
      "pygments_lexer": "ipython3",
      "version": "3.9.13"
    }
  },
  "nbformat": 4,
  "nbformat_minor": 0
}